{
 "cells": [
  {
   "cell_type": "code",
   "execution_count": 6,
   "id": "3140a267",
   "metadata": {},
   "outputs": [
    {
     "name": "stdout",
     "output_type": "stream",
     "text": [
      "Hi Alireza Shahbabaie\n",
      "Welcome aboard\n"
     ]
    }
   ],
   "source": [
    "def greet(first_name, last_name):\n",
    "    print(f\"Hi {first_name} {last_name}\")\n",
    "    print(\"Welcome aboard\")\n",
    "    \n",
    "    \n",
    "greet(\"Alireza\", \"Shahbabaie\")    \n",
    "    \n",
    "    "
   ]
  },
  {
   "cell_type": "code",
   "execution_count": 23,
   "id": "b4211f12",
   "metadata": {},
   "outputs": [
    {
     "name": "stdout",
     "output_type": "stream",
     "text": [
      "154\n"
     ]
    }
   ],
   "source": [
    "def increment(number, by=1):\n",
    "    return number + by\n",
    "\n",
    "\n",
    "print(increment(99, by=55))"
   ]
  },
  {
   "cell_type": "code",
   "execution_count": 26,
   "id": "891b30f4",
   "metadata": {},
   "outputs": [
    {
     "name": "stdout",
     "output_type": "stream",
     "text": [
      "-2307\n"
     ]
    }
   ],
   "source": [
    "def subtraction (x,y):\n",
    "      return x-y\n",
    "\n",
    "\n",
    "print(subtraction(6458, 8765))"
   ]
  },
  {
   "cell_type": "code",
   "execution_count": 34,
   "id": "9ade96ba",
   "metadata": {},
   "outputs": [
    {
     "data": {
      "text/plain": [
       "180"
      ]
     },
     "execution_count": 34,
     "metadata": {},
     "output_type": "execute_result"
    }
   ],
   "source": [
    "def multiply (*numbers):\n",
    "    total=1\n",
    "    for number in numbers:\n",
    "        total*=number\n",
    "    return total\n",
    "\n",
    "\n",
    "multiply(2,3,5,6)"
   ]
  }
 ],
 "metadata": {
  "kernelspec": {
   "display_name": "Python 3",
   "language": "python",
   "name": "python3"
  },
  "language_info": {
   "codemirror_mode": {
    "name": "ipython",
    "version": 3
   },
   "file_extension": ".py",
   "mimetype": "text/x-python",
   "name": "python",
   "nbconvert_exporter": "python",
   "pygments_lexer": "ipython3",
   "version": "3.9.12"
  },
  "toc": {
   "base_numbering": 1,
   "nav_menu": {},
   "number_sections": true,
   "sideBar": true,
   "skip_h1_title": false,
   "title_cell": "Table of Contents",
   "title_sidebar": "Contents",
   "toc_cell": false,
   "toc_position": {},
   "toc_section_display": true,
   "toc_window_display": false
  }
 },
 "nbformat": 4,
 "nbformat_minor": 5
}
